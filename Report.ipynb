{
 "cells": [
  {
   "cell_type": "markdown",
   "metadata": {},
   "source": [
    "# Video Super Resolution\n"
   ]
  },
  {
   "cell_type": "markdown",
   "metadata": {},
   "source": [
    "Anatol Kaczmarek 156038\\\n",
    "Dawid Siera 156044\n"
   ]
  },
  {
   "cell_type": "markdown",
   "metadata": {},
   "source": [
    "## Problem Description\n",
    "\n",
    "The problem we choose for this project was Super Resolution, but not the usual image super resolution, but video super resolution. The goal is to take a low resolution video, say 640x360 and create a higher resolution video, say 1280x720p from it with accuracy and image quality as high as possible and hopefully beating the common interpolation method. What the video part brings into the table is the fact that although video is just a sequence of images, consecutive frames usually share some similarities, and by looking at the previous and next frames we can try to predict the current frame with higher accuracy. The downside is increased computational time since we need to process multiple input images per one output frame, limitations in computational resources was the main problem we encountered. Since our solution makes use of information happening over time we will sometimes refer to it as temporal super resolution (TSR).\n"
   ]
  },
  {
   "cell_type": "markdown",
   "metadata": {},
   "source": [
    "### Dataset\n",
    "\n",
    "We used the Inter4k video dataset, it consists of 1000 videos recorded in 4k at 60 fps. The videos are short, around 5s which amount to 300 frames per video and 300,000 frames in whole dataset. dataset of such size was absolutely infeasible for us to process in a reasonable time, so we decided to only use a part of it. Moreover to save computational resources we resized the videos to smaller resolutions, we experimented a bit with different resolutions before settling on 360p to 720p upscaling. Although our model is Fully Convolutional Neural Network which makes is agnostic on the image size, we assumed that by focusing on specific resolution we would get the best results, that's why all the results from now on refer to 360p->720p upscaling.\n"
   ]
  },
  {
   "cell_type": "markdown",
   "metadata": {},
   "source": [
    "You can check an one of the videos in both resolutions below:\n"
   ]
  },
  {
   "cell_type": "code",
   "execution_count": 1,
   "metadata": {},
   "outputs": [
    {
     "data": {
      "text/html": [
       "<video src=\"resources/test360.mp4\" controls  >\n",
       "      Your browser does not support the <code>video</code> element.\n",
       "    </video>"
      ],
      "text/plain": [
       "<IPython.core.display.Video object>"
      ]
     },
     "execution_count": 1,
     "metadata": {},
     "output_type": "execute_result"
    }
   ],
   "source": [
    "from IPython.display import Video\n",
    "\n",
    "Video('resources/test360.mp4')"
   ]
  },
  {
   "cell_type": "code",
   "execution_count": 2,
   "metadata": {},
   "outputs": [
    {
     "data": {
      "text/html": [
       "<video src=\"resources/test720.mp4\" controls  >\n",
       "      Your browser does not support the <code>video</code> element.\n",
       "    </video>"
      ],
      "text/plain": [
       "<IPython.core.display.Video object>"
      ]
     },
     "execution_count": 2,
     "metadata": {},
     "output_type": "execute_result"
    }
   ],
   "source": [
    "Video('resources/test720.mp4')"
   ]
  },
  {
   "cell_type": "markdown",
   "metadata": {},
   "source": [
    "## Model\n",
    "\n",
    "We use a simple 6 layer fully convolutional model, based on convolutional layers and ReLU functions, but the first crucial step is to upscale the input image to the desired resolution. Since we do not use convolutional layers to increase the size of an input image we rely on regular bicubic interpolation to bring image to the desired size the we use our stack of trainable layers to reconstruct high quality image from low quality interpolation upscaling result. This also makes bicubic interpolation an ideal baseline for comparisons. The convolutional layers do not get padding because we didn't want the padded zeroes to interfere with image reconstructing effort, this mean that the output image is actually couple of pixels smaller than expected although this could be remedied by upsampling the image to slightly higher base size. Our model can be initialized with number of past/future frames to use in upscaling and upscale_factor (ratio of output and input resolutions), the concatenation happens in forward function where we stack the input frames along the channel dimension. We tried working with models using 1 and 2 future/past frames but we didn't get result high enough to justify higher computational demand so we sticked to 1 past/future frame. We also created a bigger variant of the architecture with bigger kernels and more neurons for comparison, unfortunately its increased training time forced us to decrease the number of epochs to the detriment of final results and the result was clearly underfitted model. Altough we can imagine someone with more computational resources making good use of the this bigger model we abandoned it in favor of smaller one.\n"
   ]
  },
  {
   "cell_type": "markdown",
   "metadata": {},
   "source": [
    "Here is a diagram of our model's architecture (the smaller variant):\n",
    "\n",
    "![](resources/model_diagram.png)\n",
    "\n",
    "Below is the code for our model:\n"
   ]
  },
  {
   "cell_type": "code",
   "execution_count": 3,
   "metadata": {},
   "outputs": [],
   "source": [
    "from torch import nn, Tensor\n",
    "import torch\n",
    "\n",
    "\n",
    "class TSRCNN_small(nn.Module):\n",
    "    def __init__(self, frames_backward=2, frames_forward=2, upscale_factor=1.5):\n",
    "        super(TSRCNN_small, self).__init__()\n",
    "        self.layers = nn.Sequential(\n",
    "            nn.Upsample(scale_factor=upscale_factor, mode='bicubic', align_corners=False),\n",
    "            nn.Conv2d(3 * (frames_backward + 1 + frames_forward), 64, kernel_size=9, padding=0),\n",
    "            nn.ReLU(),\n",
    "            nn.Conv2d(64, 32, kernel_size=1, padding=0),\n",
    "            nn.ReLU(),\n",
    "            nn.Conv2d(32, 3, kernel_size=5, padding=0)\n",
    "        )\n",
    "\n",
    "    def forward(self, back_frames: Tensor, low_res_frame: Tensor, forward_frames: Tensor) -> Tensor:\n",
    "        x = torch.cat([back_frames, low_res_frame, forward_frames], dim=1)\n",
    "        return self.layers(x)\n",
    "\n",
    "\n",
    "class TSRCNN_large(nn.Module):\n",
    "    def __init__(self, frames_backward=2, frames_forward=2, upscale_factor=1.5):\n",
    "        super(TSRCNN_large, self).__init__()\n",
    "        self.layers = nn.Sequential(\n",
    "            nn.Upsample(scale_factor=upscale_factor, mode='bicubic', align_corners=False),\n",
    "            nn.Conv2d(3 * (frames_backward + 1 + frames_forward), 128, kernel_size=11, padding=0),\n",
    "            nn.ReLU(),\n",
    "            nn.Conv2d(128, 64, kernel_size=3, padding=0),\n",
    "            nn.ReLU(),\n",
    "            nn.Conv2d(64, 3, kernel_size=7, padding=0)\n",
    "        )\n",
    "\n",
    "    def forward(self, back_frames: Tensor, low_res_frame: Tensor, forward_frames: Tensor) -> Tensor:\n",
    "        x = torch.cat([back_frames, low_res_frame, forward_frames], dim=1)\n",
    "        return self.layers(x)"
   ]
  },
  {
   "cell_type": "markdown",
   "metadata": {},
   "source": [
    "As per torchtools, our smaller model has 51,203 parameters all of which are trainable, and they take 0.2 MB of memory. The bigger model has 222,723 trainable parameter which take 0.85 MB of memory.\n"
   ]
  },
  {
   "cell_type": "code",
   "execution_count": 4,
   "metadata": {},
   "outputs": [
    {
     "name": "stdout",
     "output_type": "stream",
     "text": [
      "---------------------------------------------------------------------------------------------------------------------\n",
      "                            Layer (type)    Output shape     Param shape      Param #     FLOPs basic           FLOPs\n",
      "=====================================================================================================================\n",
      "                                 Input *     1x3x360x640\n",
      "                                 Input *     1x3x360x640\n",
      "                                 Input *     1x3x360x640\n",
      "                   layers.0 (Upsample) *    1x9x720x1280                            0               0               0\n",
      "                     layers.1 (Conv2d) *   1x64x712x1272     64x9x9x9+64       46,720  42,254,659,584  42,312,622,080\n",
      "                       layers.2 (ReLU) *   1x64x712x1272                            0               0               0\n",
      "                     layers.3 (Conv2d) *   1x32x712x1272    32x64x1x1+32        2,080   1,854,799,872   1,883,781,120\n",
      "                       layers.4 (ReLU) *   1x32x712x1272                            0               0               0\n",
      "                     layers.5 (Conv2d) *    1x3x708x1268      3x32x5x5+3        2,403   2,154,585,600   2,157,278,832\n",
      "                   layers (Sequential)      1x3x708x1268                            0               0               0\n",
      "                        (TSRCNN_small)      1x3x708x1268                            0               0               0\n",
      "---------------------------------------------------------------------------------------------------------------------\n",
      "Total params: 51,203 (0.19532394409179688 MB)\n",
      "Total params (with aux): 51,203 (0.19532394409179688 MB)\n",
      "    Trainable params: 51,203 (0.19532394409179688 MB)\n",
      "    Non-trainable params: 0 (0.0 MB)\n",
      "Total flops (basic): 46,264,045,056 (46.264045056 billion)\n",
      "Total flops: 46,353,682,032 (46.353682032 billion)\n",
      "---------------------------------------------------------------------------------------------------------------------\n",
      "NOTE:\n",
      "    *: leaf modules\n",
      "    Flops is measured in multiply-adds. Multiply, divide, exp are treated the same for calculation, add is ignored except for bias.\n",
      "    Flops (basic) only calculates for convolution and linear layers (not inlcude bias)\n",
      "    Flops additionally calculates for bias, normalization (BatchNorm, LayerNorm, GroupNorm), RNN (RNN, LSTM, GRU) and attention layers\n",
      "        - activations (e.g. ReLU), operations implemented as functionals (e.g. add in a residual architecture) are not \n",
      "          calculated as they are usually neglectable.\n",
      "        - complex custom module may need manual calculation for correctness (refer to RNN, LSTM, GRU, Attention as examples).\n",
      "---------------------------------------------------------------------------------------------------------------------\n"
     ]
    },
    {
     "data": {
      "text/plain": [
       "{'flops': 46353682032,\n",
       " 'flops_basic': 46264045056,\n",
       " 'params': 51203,\n",
       " 'params_with_aux': 51203}"
      ]
     },
     "execution_count": 4,
     "metadata": {},
     "output_type": "execute_result"
    }
   ],
   "source": [
    "from torchtools.utils import print_summary\n",
    "model = TSRCNN_small(1, 1, 2)\n",
    "back_frames = torch.randn(1, 3, 360, 640)\n",
    "low_res_frame = torch.randn(1, 3, 360, 640)\n",
    "forward_frames = torch.randn(1, 3, 360, 640)\n",
    "print_summary(model, back_frames, low_res_frame, forward_frames)"
   ]
  },
  {
   "cell_type": "code",
   "execution_count": 5,
   "metadata": {},
   "outputs": [
    {
     "name": "stdout",
     "output_type": "stream",
     "text": [
      "---------------------------------------------------------------------------------------------------------------------\n",
      "                            Layer (type)    Output shape     Param shape      Param #     FLOPs basic           FLOPs\n",
      "=====================================================================================================================\n",
      "                                 Input *     1x3x360x640\n",
      "                                 Input *     1x3x360x640\n",
      "                                 Input *     1x3x360x640\n",
      "                   layers.0 (Upsample) *    1x9x720x1280                            0               0               0\n",
      "                     layers.1 (Conv2d) *  1x128x710x1270 128x9x11x11+128      139,520 125,689,766,400 125,805,184,000\n",
      "                       layers.2 (ReLU) *  1x128x710x1270                            0               0               0\n",
      "                     layers.3 (Conv2d) *   1x64x708x1268   64x128x3x3+64       73,792  66,188,869,632  66,246,325,248\n",
      "                       layers.4 (ReLU) *   1x64x708x1268                            0               0               0\n",
      "                     layers.5 (Conv2d) *    1x3x702x1262      3x64x7x7+3        9,411   8,334,772,992   8,337,430,764\n",
      "                   layers (Sequential)      1x3x702x1262                            0               0               0\n",
      "                        (TSRCNN_large)      1x3x702x1262                            0               0               0\n",
      "---------------------------------------------------------------------------------------------------------------------\n",
      "Total params: 222,723 (0.8496208190917969 MB)\n",
      "Total params (with aux): 222,723 (0.8496208190917969 MB)\n",
      "    Trainable params: 222,723 (0.8496208190917969 MB)\n",
      "    Non-trainable params: 0 (0.0 MB)\n",
      "Total flops (basic): 200,213,409,024 (200.213409024 billion)\n",
      "Total flops: 200,388,940,012 (200.388940012 billion)\n",
      "---------------------------------------------------------------------------------------------------------------------\n",
      "NOTE:\n",
      "    *: leaf modules\n",
      "    Flops is measured in multiply-adds. Multiply, divide, exp are treated the same for calculation, add is ignored except for bias.\n",
      "    Flops (basic) only calculates for convolution and linear layers (not inlcude bias)\n",
      "    Flops additionally calculates for bias, normalization (BatchNorm, LayerNorm, GroupNorm), RNN (RNN, LSTM, GRU) and attention layers\n",
      "        - activations (e.g. ReLU), operations implemented as functionals (e.g. add in a residual architecture) are not \n",
      "          calculated as they are usually neglectable.\n",
      "        - complex custom module may need manual calculation for correctness (refer to RNN, LSTM, GRU, Attention as examples).\n",
      "---------------------------------------------------------------------------------------------------------------------\n"
     ]
    },
    {
     "data": {
      "text/plain": [
       "{'flops': 200388940012,\n",
       " 'flops_basic': 200213409024,\n",
       " 'params': 222723,\n",
       " 'params_with_aux': 222723}"
      ]
     },
     "execution_count": 5,
     "metadata": {},
     "output_type": "execute_result"
    }
   ],
   "source": [
    "model = TSRCNN_large(1, 1, 2)\n",
    "print_summary(model, back_frames, low_res_frame, forward_frames)"
   ]
  },
  {
   "cell_type": "markdown",
   "metadata": {},
   "source": [
    "## Training\n",
    "\n",
    "The training procedure is controlled by two main classes of the program MultiTrainer and MultiVideoDataset, and it consists of the following steps:\n",
    "\n",
    "1. Grouping the movies into batches\n",
    "2. Loading of movie batch and creating the dataset\n",
    "3. Splitting the dataset into training and validation sets\n",
    "4. Training the model for n epochs, each epoch consists of:\n",
    "   1. Training\n",
    "   2. Validation\n",
    "\n",
    "### Grouping the movies into batches\n",
    "\n",
    "Ideally we would like to create a single dataset out of all the training movies, but due to very high memory usage during video loading (resulting from some bug in the library) we had to first split videos into batches and perform the whole training procedure on each batch separately. This is not ideal since the model doesn't get to see the whole dataset at once, but it was the only way to make it work. Parameter video_batch_size controls the number of videos in a single batch, on a 32GB RAM machine we were able to load 5 videos at once, but your mileage may vary.\n",
    "\n",
    "### Loading of movie batches and creating the dataset\n",
    "\n",
    "In this step for each movie in batch we load the movie from the disk and read it frame by frame appending each frame to an array, then we utilize sliding window to get sets of frames containing past and future frames for each frame in the movie (except for the first and last frames). The number of past and future frames is controlled by paramaters frames_back and frames_forward. The resulting arrays from each movie are then concatenated into a single array. When dataset is asked for some example it first resizes the frames to the resolution a model is supposed to upscale from and then returns the tuple of tensor containing past and future frames and tensor containing the current frame as well as current frame in an original resolution as a ground truth.\n",
    "\n",
    "### Splitting the dataset into training and validation sets\n",
    "\n",
    "The MultiVideoDataset object is then split into training and validation sets both of which are then wrapped in DataLoader objects\n",
    "\n",
    "### Training\n",
    "\n",
    "During training we first iterate over the training set and for each retrieved batch we predict the output of the model and compare against the ground truth to calculate metrics and loss, we then backpropagate the loss and update the model's weights. Next we iterate over the validation set and do the same but without backpropagation and weight updates. validation loss, and values of metrics get averaged over the whole validation set and reported as the result of the epoch. This process is repeated for n epochs.\n"
   ]
  },
  {
   "cell_type": "markdown",
   "metadata": {},
   "source": [
    "Our program also uses mlflow to log the training process and save the models as well as Simple GUI created in streamlit which allows both to train and test models, and is the recommended way to run the program:\n",
    "![train](resources/train.png)\n"
   ]
  },
  {
   "cell_type": "markdown",
   "metadata": {},
   "source": [
    "GUI allows to choose all the necessary hyperparameters, if you have an already trained model in models/ directory you can choose it to \"uptrain\" it, otherwise you can train a new model from scratch. This page expects that the videos you provide will be at least the size of High resolution parameter, and they need to have 16:9 proportions\n"
   ]
  },
  {
   "cell_type": "markdown",
   "metadata": {},
   "source": [
    "After you click start training progress bars and graphs will appear allowing you to monitor the training process. Program generates 3x3 graph grid, where first row concerns the subsequent batches of training, the second batches of validation, and the third epochs. The first column shows the value of PSNR metric, the second column shows the value of SSIM metric, and the third column shows the value of currently chosen loss function. The graphs are updated after each batch and epoch. Epochs loss and metrics are also logged to the mlflow and can be retrieved later. MLflow saves also the model after each epoch as well as parameters used in training.\n",
    "\n",
    "![plots](resources/Adam_PNSR_252_10.png)\n"
   ]
  },
  {
   "cell_type": "markdown",
   "metadata": {},
   "source": [
    "## Evaluation\n",
    "\n",
    "Before we go to the evaluation procedure let's describe metrics and loss functions we used:\n"
   ]
  },
  {
   "cell_type": "markdown",
   "metadata": {},
   "source": [
    "**PSNR (Peak Signal-to-Noise Ratio):**\n",
    "\n",
    "$$\n",
    "\\text{PSNR} = 10 \\cdot \\log_{10}\\left(\\frac{\\text{MAX}^2}{\\text{MSE}}\\right)\n",
    "$$\n",
    "\n",
    "Where:\n",
    "\n",
    "- $\\text{MAX}$ is the maximum possible pixel value of the image.\n",
    "- $\\text{MSE}$ is the Mean Squared Error between images\n"
   ]
  },
  {
   "cell_type": "markdown",
   "metadata": {},
   "source": [
    "**SSIM (Structural Similarity Index):**\n",
    "$$\\text{SSIM}(x, y) = \\frac{(2\\mu*x\\mu_y + C_1)(2\\sigma*{xy} + C_2)}{(\\mu_x^2 + \\mu_y^2 + C_1)(\\sigma_x^2 + \\sigma_y^2 + C_2)} $$\n",
    "\n",
    "Where:\n",
    "\n",
    "- $\\mu_x, \\mu_y$ are the mean intensities of $x$ and $y$.\n",
    "- $\\sigma_x^2, \\sigma_y^2$ are the variances of $x$ and $y$.\n",
    "- $\\sigma\\_{xy}$ is the covariance between $x$ and $y$.\n",
    "- $C_1 = (k_1 L)^2$ and $C_2 = (k_2 L)^2$ are constants to stabilize the division (typically $k_1 = 0.01$, $k_2 = 0.03$, and $L$ is the dynamic range of pixel values).\n"
   ]
  },
  {
   "cell_type": "markdown",
   "metadata": {},
   "source": [
    "Based on these two metrics we introduce two loss functions:\n",
    "\n",
    "- PNSR (Peak Noise-to-Signal Ratio): $\\frac{1}{\\text{PSNR}}$\n",
    "- DSSIM (Structural Dissimilarity Index): $1 - \\text{SSIM}$\n"
   ]
  },
  {
   "cell_type": "markdown",
   "metadata": {},
   "source": [
    "Evaluation works similarly to the training procedure with only difference being that only a single video is being loaded and after the model upscales each frame it is being written to the new high resolution video\n",
    "Evaluation can be run with in test mode which expect high resolution video input and will report values of metrics just during training, or in inference mode which expects low resolution video input and will generate upscaled video\n",
    "\n",
    "![test](resources/test.png)\n"
   ]
  },
  {
   "cell_type": "markdown",
   "metadata": {},
   "source": [
    "### Our Results\n",
    "\n",
    "We wanted to test 3 optimizers AdamW, Adagrad, and SGD, and 3 loss functions MSE, PNSR, and DSSIM, additionally we wanted to test the larger version of the model, however due to the computational limitations we couldn't train each model on the whole data so we started with a smaller dataset of 36 videos (~10,000 frames) and uptrained only the models which got good results. In this first turn on 36 datasets and 10 epochs we trained in total 6 models:\n",
    "\n",
    "- small model with AdamW optimizer and MSE loss\n",
    "- small model with AdamW optimizer and PNSR loss\n",
    "- small model with AdamW optimizer and DSSIM loss\n",
    "- large model with AdamW optimizer and MSE loss\n",
    "- small model with Adagrad optimizer and MSE loss\n",
    "- small model with Adagrad optimizer and PNSR loss\n",
    "- small model with SGD optimizer and MSE loss\n",
    "\n",
    "**Hyper paramters**\\\n",
    "For each model we used 0.0001 learning rate as it is a popular choice and a single past and future frame. We tried using 2 frames but the results were not good enough to justify the increased computational demand. Each model was trained ans tested on 360->730p upscaling, because smaller image size allowed us to train the models faster. Batch size was set to 8 which was dictated by the VRAM capacity of the GPU.\n",
    "\n",
    "**Training and inference times**\\\n",
    "Training of a single model in this configuration took around 2.5h this was also true for larger model trained with smaller number of epochs, and later when we training models on 108 videos with 3 epochs the time was also similar. Inference with smaller model takes around 50s per video, 6 frames per second, and with larger model around 75s per video, 4 frames per second.\n",
    "\n",
    "Already in the training phase model trained with SGD optimizer gave results so poor that we resigned from training it on the two remaining losses. Adagrad's performance was similarly poor and we skipped training it on DSSIM loss. As mentioned before the large model was trained only for 3 epochs instead of 10 due to computational limitations which resulted in underfitting. After training we evaluated the models on 10 videos from the dataset (none of which were used in training) for each of them we calculate average values of metrics all frames, Since cubic interpolation is our baseline we also calculated the same metrics for it calculated the difference between the model metrics and cubic metrics. Additionally since having two separate metrics made it difficult to compare models we introduced an additional metric QM (Quality Measure) defined as: a geometric mean of PSNR and DSSIM.\n",
    "$$\\text{Quality Measure (QM)} = \\sqrt{\\text{PNSR}*\\text{DSSIM}}$$\n",
    "To compare models we also averaged the results over all 10 testing videos and calulated a score as number of videos in which given model outperformed the cubic interpolation. The results are presented in the table below:\n"
   ]
  },
  {
   "cell_type": "code",
   "execution_count": 6,
   "metadata": {},
   "outputs": [
    {
     "data": {
      "text/html": [
       "<div>\n",
       "<style scoped>\n",
       "    .dataframe tbody tr th:only-of-type {\n",
       "        vertical-align: middle;\n",
       "    }\n",
       "\n",
       "    .dataframe tbody tr th {\n",
       "        vertical-align: top;\n",
       "    }\n",
       "\n",
       "    .dataframe thead th {\n",
       "        text-align: right;\n",
       "    }\n",
       "</style>\n",
       "<table border=\"1\" class=\"dataframe\">\n",
       "  <thead>\n",
       "    <tr style=\"text-align: right;\">\n",
       "      <th></th>\n",
       "      <th>model</th>\n",
       "      <th>100.mp4_psnr</th>\n",
       "      <th>100.mp4_qm</th>\n",
       "      <th>100.mp4_ssim</th>\n",
       "      <th>1000.mp4_psnr</th>\n",
       "      <th>1000.mp4_qm</th>\n",
       "      <th>1000.mp4_ssim</th>\n",
       "      <th>200.mp4_psnr</th>\n",
       "      <th>200.mp4_qm</th>\n",
       "      <th>200.mp4_ssim</th>\n",
       "      <th>...</th>\n",
       "      <th>800.mp4_psnr</th>\n",
       "      <th>800.mp4_qm</th>\n",
       "      <th>800.mp4_ssim</th>\n",
       "      <th>900.mp4_psnr</th>\n",
       "      <th>900.mp4_qm</th>\n",
       "      <th>900.mp4_ssim</th>\n",
       "      <th>average_psnr</th>\n",
       "      <th>average_ssim</th>\n",
       "      <th>average_qm</th>\n",
       "      <th>score</th>\n",
       "    </tr>\n",
       "  </thead>\n",
       "  <tbody>\n",
       "    <tr>\n",
       "      <th>0</th>\n",
       "      <td>large_360_720_36videos_AdamWopt_MSELossloss_1f...</td>\n",
       "      <td>-3.734211</td>\n",
       "      <td>-0.300641</td>\n",
       "      <td>-0.006046</td>\n",
       "      <td>-0.452009</td>\n",
       "      <td>-0.297245</td>\n",
       "      <td>-0.089115</td>\n",
       "      <td>0.450476</td>\n",
       "      <td>0.048059</td>\n",
       "      <td>0.002965</td>\n",
       "      <td>...</td>\n",
       "      <td>-0.115380</td>\n",
       "      <td>-0.022719</td>\n",
       "      <td>-0.004397</td>\n",
       "      <td>0.430492</td>\n",
       "      <td>0.071991</td>\n",
       "      <td>0.012013</td>\n",
       "      <td>-0.963966</td>\n",
       "      <td>-0.026104</td>\n",
       "      <td>-0.154099</td>\n",
       "      <td>0.5</td>\n",
       "    </tr>\n",
       "    <tr>\n",
       "      <th>1</th>\n",
       "      <td>small_360_720_36videos_Adagradopt_MSELossloss_...</td>\n",
       "      <td>-6.165242</td>\n",
       "      <td>-0.527323</td>\n",
       "      <td>-0.017874</td>\n",
       "      <td>-4.967614</td>\n",
       "      <td>-0.918187</td>\n",
       "      <td>-0.169263</td>\n",
       "      <td>-4.230602</td>\n",
       "      <td>-0.824915</td>\n",
       "      <td>-0.159152</td>\n",
       "      <td>...</td>\n",
       "      <td>-2.170785</td>\n",
       "      <td>-0.433223</td>\n",
       "      <td>-0.084580</td>\n",
       "      <td>-2.959594</td>\n",
       "      <td>-0.578530</td>\n",
       "      <td>-0.111705</td>\n",
       "      <td>-4.707401</td>\n",
       "      <td>-0.111740</td>\n",
       "      <td>-0.721222</td>\n",
       "      <td>0.0</td>\n",
       "    </tr>\n",
       "    <tr>\n",
       "      <th>2</th>\n",
       "      <td>small_360_720_36videos_Adagradopt_PNSRloss_1fb...</td>\n",
       "      <td>-5.767887</td>\n",
       "      <td>-0.491491</td>\n",
       "      <td>-0.016400</td>\n",
       "      <td>-4.046040</td>\n",
       "      <td>-0.665161</td>\n",
       "      <td>-0.108710</td>\n",
       "      <td>-3.625270</td>\n",
       "      <td>-0.693373</td>\n",
       "      <td>-0.131711</td>\n",
       "      <td>...</td>\n",
       "      <td>-1.761099</td>\n",
       "      <td>-0.347364</td>\n",
       "      <td>-0.067251</td>\n",
       "      <td>-2.554079</td>\n",
       "      <td>-0.485140</td>\n",
       "      <td>-0.091525</td>\n",
       "      <td>-3.921213</td>\n",
       "      <td>-0.082794</td>\n",
       "      <td>-0.569042</td>\n",
       "      <td>0.0</td>\n",
       "    </tr>\n",
       "    <tr>\n",
       "      <th>3</th>\n",
       "      <td>small_360_720_36videos_AdamWopt_DSSIMloss_1fb_...</td>\n",
       "      <td>-4.487203</td>\n",
       "      <td>-0.339390</td>\n",
       "      <td>-0.000088</td>\n",
       "      <td>0.177847</td>\n",
       "      <td>-0.037914</td>\n",
       "      <td>-0.018717</td>\n",
       "      <td>0.310632</td>\n",
       "      <td>0.070956</td>\n",
       "      <td>0.015380</td>\n",
       "      <td>...</td>\n",
       "      <td>0.103374</td>\n",
       "      <td>0.041477</td>\n",
       "      <td>0.011194</td>\n",
       "      <td>0.412186</td>\n",
       "      <td>0.097714</td>\n",
       "      <td>0.021601</td>\n",
       "      <td>-0.949440</td>\n",
       "      <td>-0.002913</td>\n",
       "      <td>-0.082781</td>\n",
       "      <td>0.6</td>\n",
       "    </tr>\n",
       "    <tr>\n",
       "      <th>4</th>\n",
       "      <td>small_360_720_36videos_AdamWopt_MSELossloss_1f...</td>\n",
       "      <td>-6.452513</td>\n",
       "      <td>-0.500426</td>\n",
       "      <td>-0.002212</td>\n",
       "      <td>0.173088</td>\n",
       "      <td>-0.048839</td>\n",
       "      <td>-0.022369</td>\n",
       "      <td>0.308065</td>\n",
       "      <td>0.034897</td>\n",
       "      <td>0.002735</td>\n",
       "      <td>...</td>\n",
       "      <td>0.070231</td>\n",
       "      <td>0.007311</td>\n",
       "      <td>0.000445</td>\n",
       "      <td>0.294060</td>\n",
       "      <td>0.054356</td>\n",
       "      <td>0.010020</td>\n",
       "      <td>-1.333145</td>\n",
       "      <td>-0.007172</td>\n",
       "      <td>-0.125245</td>\n",
       "      <td>0.4</td>\n",
       "    </tr>\n",
       "    <tr>\n",
       "      <th>5</th>\n",
       "      <td>small_360_720_36videos_AdamWopt_PNSRloss_1fb_1...</td>\n",
       "      <td>-1.699418</td>\n",
       "      <td>-0.134431</td>\n",
       "      <td>-0.002420</td>\n",
       "      <td>-0.463035</td>\n",
       "      <td>-0.281817</td>\n",
       "      <td>-0.083579</td>\n",
       "      <td>0.523455</td>\n",
       "      <td>0.058180</td>\n",
       "      <td>0.004271</td>\n",
       "      <td>...</td>\n",
       "      <td>0.133572</td>\n",
       "      <td>0.008140</td>\n",
       "      <td>-0.001122</td>\n",
       "      <td>0.514038</td>\n",
       "      <td>0.077649</td>\n",
       "      <td>0.011440</td>\n",
       "      <td>-0.700565</td>\n",
       "      <td>-0.029648</td>\n",
       "      <td>-0.145092</td>\n",
       "      <td>0.6</td>\n",
       "    </tr>\n",
       "    <tr>\n",
       "      <th>6</th>\n",
       "      <td>small_360_720_36videos_SGDopt_MSELossloss_1fb_...</td>\n",
       "      <td>-18.034602</td>\n",
       "      <td>-1.647082</td>\n",
       "      <td>-0.056695</td>\n",
       "      <td>-9.682540</td>\n",
       "      <td>-1.876009</td>\n",
       "      <td>-0.359083</td>\n",
       "      <td>-9.181472</td>\n",
       "      <td>-1.794721</td>\n",
       "      <td>-0.345958</td>\n",
       "      <td>...</td>\n",
       "      <td>-6.394648</td>\n",
       "      <td>-1.161814</td>\n",
       "      <td>-0.210196</td>\n",
       "      <td>-8.182921</td>\n",
       "      <td>-1.561708</td>\n",
       "      <td>-0.295159</td>\n",
       "      <td>-11.706562</td>\n",
       "      <td>-0.240023</td>\n",
       "      <td>-1.704240</td>\n",
       "      <td>0.0</td>\n",
       "    </tr>\n",
       "  </tbody>\n",
       "</table>\n",
       "<p>7 rows × 35 columns</p>\n",
       "</div>"
      ],
      "text/plain": [
       "                                               model  100.mp4_psnr  \\\n",
       "0  large_360_720_36videos_AdamWopt_MSELossloss_1f...     -3.734211   \n",
       "1  small_360_720_36videos_Adagradopt_MSELossloss_...     -6.165242   \n",
       "2  small_360_720_36videos_Adagradopt_PNSRloss_1fb...     -5.767887   \n",
       "3  small_360_720_36videos_AdamWopt_DSSIMloss_1fb_...     -4.487203   \n",
       "4  small_360_720_36videos_AdamWopt_MSELossloss_1f...     -6.452513   \n",
       "5  small_360_720_36videos_AdamWopt_PNSRloss_1fb_1...     -1.699418   \n",
       "6  small_360_720_36videos_SGDopt_MSELossloss_1fb_...    -18.034602   \n",
       "\n",
       "   100.mp4_qm  100.mp4_ssim  1000.mp4_psnr  1000.mp4_qm  1000.mp4_ssim  \\\n",
       "0   -0.300641     -0.006046      -0.452009    -0.297245      -0.089115   \n",
       "1   -0.527323     -0.017874      -4.967614    -0.918187      -0.169263   \n",
       "2   -0.491491     -0.016400      -4.046040    -0.665161      -0.108710   \n",
       "3   -0.339390     -0.000088       0.177847    -0.037914      -0.018717   \n",
       "4   -0.500426     -0.002212       0.173088    -0.048839      -0.022369   \n",
       "5   -0.134431     -0.002420      -0.463035    -0.281817      -0.083579   \n",
       "6   -1.647082     -0.056695      -9.682540    -1.876009      -0.359083   \n",
       "\n",
       "   200.mp4_psnr  200.mp4_qm  200.mp4_ssim  ...  800.mp4_psnr  800.mp4_qm  \\\n",
       "0      0.450476    0.048059      0.002965  ...     -0.115380   -0.022719   \n",
       "1     -4.230602   -0.824915     -0.159152  ...     -2.170785   -0.433223   \n",
       "2     -3.625270   -0.693373     -0.131711  ...     -1.761099   -0.347364   \n",
       "3      0.310632    0.070956      0.015380  ...      0.103374    0.041477   \n",
       "4      0.308065    0.034897      0.002735  ...      0.070231    0.007311   \n",
       "5      0.523455    0.058180      0.004271  ...      0.133572    0.008140   \n",
       "6     -9.181472   -1.794721     -0.345958  ...     -6.394648   -1.161814   \n",
       "\n",
       "   800.mp4_ssim  900.mp4_psnr  900.mp4_qm  900.mp4_ssim  average_psnr  \\\n",
       "0     -0.004397      0.430492    0.071991      0.012013     -0.963966   \n",
       "1     -0.084580     -2.959594   -0.578530     -0.111705     -4.707401   \n",
       "2     -0.067251     -2.554079   -0.485140     -0.091525     -3.921213   \n",
       "3      0.011194      0.412186    0.097714      0.021601     -0.949440   \n",
       "4      0.000445      0.294060    0.054356      0.010020     -1.333145   \n",
       "5     -0.001122      0.514038    0.077649      0.011440     -0.700565   \n",
       "6     -0.210196     -8.182921   -1.561708     -0.295159    -11.706562   \n",
       "\n",
       "   average_ssim  average_qm  score  \n",
       "0     -0.026104   -0.154099    0.5  \n",
       "1     -0.111740   -0.721222    0.0  \n",
       "2     -0.082794   -0.569042    0.0  \n",
       "3     -0.002913   -0.082781    0.6  \n",
       "4     -0.007172   -0.125245    0.4  \n",
       "5     -0.029648   -0.145092    0.6  \n",
       "6     -0.240023   -1.704240    0.0  \n",
       "\n",
       "[7 rows x 35 columns]"
      ]
     },
     "execution_count": 6,
     "metadata": {},
     "output_type": "execute_result"
    }
   ],
   "source": [
    "import pandas as pd\n",
    "pd.read_csv('resources/results1.csv')"
   ]
  },
  {
   "cell_type": "markdown",
   "metadata": {},
   "source": [
    "Unfortunately in this first stage none of the trained models outperformed the interpolation on average, however AdamW models trained on DSSIM and PNSR outperformed the cubic interpolation on 6 out of 10 videos so we selected them for the next stage\n"
   ]
  },
  {
   "cell_type": "markdown",
   "metadata": {},
   "source": [
    "In the next stage we uptrained the selected models with 108 more videos and 3 more epochs, the results are presented in the table below:\n"
   ]
  },
  {
   "cell_type": "code",
   "execution_count": 7,
   "metadata": {},
   "outputs": [
    {
     "data": {
      "text/html": [
       "<div>\n",
       "<style scoped>\n",
       "    .dataframe tbody tr th:only-of-type {\n",
       "        vertical-align: middle;\n",
       "    }\n",
       "\n",
       "    .dataframe tbody tr th {\n",
       "        vertical-align: top;\n",
       "    }\n",
       "\n",
       "    .dataframe thead th {\n",
       "        text-align: right;\n",
       "    }\n",
       "</style>\n",
       "<table border=\"1\" class=\"dataframe\">\n",
       "  <thead>\n",
       "    <tr style=\"text-align: right;\">\n",
       "      <th></th>\n",
       "      <th>model</th>\n",
       "      <th>100.mp4_psnr</th>\n",
       "      <th>100.mp4_qm</th>\n",
       "      <th>100.mp4_ssim</th>\n",
       "      <th>1000.mp4_psnr</th>\n",
       "      <th>1000.mp4_qm</th>\n",
       "      <th>1000.mp4_ssim</th>\n",
       "      <th>200.mp4_psnr</th>\n",
       "      <th>200.mp4_qm</th>\n",
       "      <th>200.mp4_ssim</th>\n",
       "      <th>...</th>\n",
       "      <th>800.mp4_psnr</th>\n",
       "      <th>800.mp4_qm</th>\n",
       "      <th>800.mp4_ssim</th>\n",
       "      <th>900.mp4_psnr</th>\n",
       "      <th>900.mp4_qm</th>\n",
       "      <th>900.mp4_ssim</th>\n",
       "      <th>average_psnr</th>\n",
       "      <th>average_ssim</th>\n",
       "      <th>average_qm</th>\n",
       "      <th>score</th>\n",
       "    </tr>\n",
       "  </thead>\n",
       "  <tbody>\n",
       "    <tr>\n",
       "      <th>0</th>\n",
       "      <td>small_360_720_144videos_AdamWopt_DSSIMloss_1fb...</td>\n",
       "      <td>-7.910640</td>\n",
       "      <td>-0.612011</td>\n",
       "      <td>-0.000482</td>\n",
       "      <td>0.885894</td>\n",
       "      <td>0.105123</td>\n",
       "      <td>0.009631</td>\n",
       "      <td>0.221640</td>\n",
       "      <td>0.073816</td>\n",
       "      <td>0.019194</td>\n",
       "      <td>...</td>\n",
       "      <td>0.071826</td>\n",
       "      <td>0.060105</td>\n",
       "      <td>0.018558</td>\n",
       "      <td>0.352403</td>\n",
       "      <td>0.103225</td>\n",
       "      <td>0.025399</td>\n",
       "      <td>-0.626638</td>\n",
       "      <td>0.011379</td>\n",
       "      <td>-0.012920</td>\n",
       "      <td>0.8</td>\n",
       "    </tr>\n",
       "    <tr>\n",
       "      <th>1</th>\n",
       "      <td>small_360_720_144videos_AdamWopt_PNSRloss_1fb_...</td>\n",
       "      <td>0.397138</td>\n",
       "      <td>0.027760</td>\n",
       "      <td>-0.000419</td>\n",
       "      <td>0.752685</td>\n",
       "      <td>0.056118</td>\n",
       "      <td>-0.003395</td>\n",
       "      <td>0.967591</td>\n",
       "      <td>0.136301</td>\n",
       "      <td>0.018012</td>\n",
       "      <td>...</td>\n",
       "      <td>0.529495</td>\n",
       "      <td>0.073506</td>\n",
       "      <td>0.009657</td>\n",
       "      <td>0.798743</td>\n",
       "      <td>0.128736</td>\n",
       "      <td>0.020600</td>\n",
       "      <td>0.855944</td>\n",
       "      <td>0.004731</td>\n",
       "      <td>0.084644</td>\n",
       "      <td>0.9</td>\n",
       "    </tr>\n",
       "  </tbody>\n",
       "</table>\n",
       "<p>2 rows × 35 columns</p>\n",
       "</div>"
      ],
      "text/plain": [
       "                                               model  100.mp4_psnr  \\\n",
       "0  small_360_720_144videos_AdamWopt_DSSIMloss_1fb...     -7.910640   \n",
       "1  small_360_720_144videos_AdamWopt_PNSRloss_1fb_...      0.397138   \n",
       "\n",
       "   100.mp4_qm  100.mp4_ssim  1000.mp4_psnr  1000.mp4_qm  1000.mp4_ssim  \\\n",
       "0   -0.612011     -0.000482       0.885894     0.105123       0.009631   \n",
       "1    0.027760     -0.000419       0.752685     0.056118      -0.003395   \n",
       "\n",
       "   200.mp4_psnr  200.mp4_qm  200.mp4_ssim  ...  800.mp4_psnr  800.mp4_qm  \\\n",
       "0      0.221640    0.073816      0.019194  ...      0.071826    0.060105   \n",
       "1      0.967591    0.136301      0.018012  ...      0.529495    0.073506   \n",
       "\n",
       "   800.mp4_ssim  900.mp4_psnr  900.mp4_qm  900.mp4_ssim  average_psnr  \\\n",
       "0      0.018558      0.352403    0.103225      0.025399     -0.626638   \n",
       "1      0.009657      0.798743    0.128736      0.020600      0.855944   \n",
       "\n",
       "   average_ssim  average_qm  score  \n",
       "0      0.011379   -0.012920    0.8  \n",
       "1      0.004731    0.084644    0.9  \n",
       "\n",
       "[2 rows x 35 columns]"
      ]
     },
     "execution_count": 7,
     "metadata": {},
     "output_type": "execute_result"
    }
   ],
   "source": [
    "pd.read_csv('resources/results2.csv')"
   ]
  },
  {
   "cell_type": "markdown",
   "metadata": {},
   "source": [
    "Below are the plots of the metrics for the DSSIM model in the format I mentioned earlier:\n",
    "\n",
    "![plots](resources/Adam_DSSIM_144_10.png)\n"
   ]
  },
  {
   "cell_type": "markdown",
   "metadata": {},
   "source": [
    "And for the PNSR model:\n",
    "\n",
    "![plots](resources/Adam_PNSR_144_10.png)\n"
   ]
  },
  {
   "cell_type": "markdown",
   "metadata": {},
   "source": [
    "This time the model trained on the PNSR loss outperformed the cubic interpolation on average and on 9 out of 10 so we decided to give it even more training, once again uptraining with 108 videos and 3 epochs, the results are presented in the table below:\n"
   ]
  },
  {
   "cell_type": "code",
   "execution_count": 8,
   "metadata": {},
   "outputs": [
    {
     "data": {
      "text/html": [
       "<div>\n",
       "<style scoped>\n",
       "    .dataframe tbody tr th:only-of-type {\n",
       "        vertical-align: middle;\n",
       "    }\n",
       "\n",
       "    .dataframe tbody tr th {\n",
       "        vertical-align: top;\n",
       "    }\n",
       "\n",
       "    .dataframe thead th {\n",
       "        text-align: right;\n",
       "    }\n",
       "</style>\n",
       "<table border=\"1\" class=\"dataframe\">\n",
       "  <thead>\n",
       "    <tr style=\"text-align: right;\">\n",
       "      <th></th>\n",
       "      <th>model</th>\n",
       "      <th>100.mp4_psnr</th>\n",
       "      <th>100.mp4_qm</th>\n",
       "      <th>100.mp4_ssim</th>\n",
       "      <th>1000.mp4_psnr</th>\n",
       "      <th>1000.mp4_qm</th>\n",
       "      <th>1000.mp4_ssim</th>\n",
       "      <th>200.mp4_psnr</th>\n",
       "      <th>200.mp4_qm</th>\n",
       "      <th>200.mp4_ssim</th>\n",
       "      <th>...</th>\n",
       "      <th>800.mp4_psnr</th>\n",
       "      <th>800.mp4_qm</th>\n",
       "      <th>800.mp4_ssim</th>\n",
       "      <th>900.mp4_psnr</th>\n",
       "      <th>900.mp4_qm</th>\n",
       "      <th>900.mp4_ssim</th>\n",
       "      <th>average_psnr</th>\n",
       "      <th>average_ssim</th>\n",
       "      <th>average_qm</th>\n",
       "      <th>score</th>\n",
       "    </tr>\n",
       "  </thead>\n",
       "  <tbody>\n",
       "    <tr>\n",
       "      <th>0</th>\n",
       "      <td>small_360_720_252videos_AdamWopt_PNSRloss_1fb_...</td>\n",
       "      <td>0.511012</td>\n",
       "      <td>0.038215</td>\n",
       "      <td>0.000199</td>\n",
       "      <td>1.020389</td>\n",
       "      <td>0.106209</td>\n",
       "      <td>0.00593</td>\n",
       "      <td>0.931552</td>\n",
       "      <td>0.134291</td>\n",
       "      <td>0.018415</td>\n",
       "      <td>...</td>\n",
       "      <td>0.796978</td>\n",
       "      <td>0.111497</td>\n",
       "      <td>0.014835</td>\n",
       "      <td>0.782417</td>\n",
       "      <td>0.128722</td>\n",
       "      <td>0.021093</td>\n",
       "      <td>0.959765</td>\n",
       "      <td>0.008715</td>\n",
       "      <td>0.105079</td>\n",
       "      <td>1.0</td>\n",
       "    </tr>\n",
       "  </tbody>\n",
       "</table>\n",
       "<p>1 rows × 35 columns</p>\n",
       "</div>"
      ],
      "text/plain": [
       "                                               model  100.mp4_psnr  \\\n",
       "0  small_360_720_252videos_AdamWopt_PNSRloss_1fb_...      0.511012   \n",
       "\n",
       "   100.mp4_qm  100.mp4_ssim  1000.mp4_psnr  1000.mp4_qm  1000.mp4_ssim  \\\n",
       "0    0.038215      0.000199       1.020389     0.106209        0.00593   \n",
       "\n",
       "   200.mp4_psnr  200.mp4_qm  200.mp4_ssim  ...  800.mp4_psnr  800.mp4_qm  \\\n",
       "0      0.931552    0.134291      0.018415  ...      0.796978    0.111497   \n",
       "\n",
       "   800.mp4_ssim  900.mp4_psnr  900.mp4_qm  900.mp4_ssim  average_psnr  \\\n",
       "0      0.014835      0.782417    0.128722      0.021093      0.959765   \n",
       "\n",
       "   average_ssim  average_qm  score  \n",
       "0      0.008715    0.105079    1.0  \n",
       "\n",
       "[1 rows x 35 columns]"
      ]
     },
     "execution_count": 8,
     "metadata": {},
     "output_type": "execute_result"
    }
   ],
   "source": [
    "pd.read_csv('resources/results3.csv')"
   ]
  },
  {
   "cell_type": "markdown",
   "metadata": {},
   "source": [
    "Finally our model came on top on all 10 videos and increased the average QM\n"
   ]
  },
  {
   "cell_type": "markdown",
   "metadata": {},
   "source": [
    "Here are the plots for the final training session:\n",
    "\n",
    "![plots](resources/Adam_PNSR_252_10.png)\n"
   ]
  },
  {
   "cell_type": "markdown",
   "metadata": {},
   "source": [
    "### Extras: Resolution Agnostic Upscaling\n",
    "\n",
    "Although we chose 360->730p upscaling for training and testing, our model architecture allows videos of arbitrary size to be upscaled, so we ran two additional rounds of testing, 720p->1080p and 720p->1440p, to find out how the model would fare on resolution different from the one it was trained on. The reason we chose those resolutions is that 720p->1440p features the same upscaling factor as 360p->720p of x2, while 720p->1080p has a scaling factor of x1.5, and we wanted to find out whether that would influence the results. The results for the 720p->1440p are presented in the table below:\n"
   ]
  },
  {
   "cell_type": "code",
   "execution_count": 9,
   "metadata": {},
   "outputs": [
    {
     "data": {
      "text/html": [
       "<div>\n",
       "<style scoped>\n",
       "    .dataframe tbody tr th:only-of-type {\n",
       "        vertical-align: middle;\n",
       "    }\n",
       "\n",
       "    .dataframe tbody tr th {\n",
       "        vertical-align: top;\n",
       "    }\n",
       "\n",
       "    .dataframe thead th {\n",
       "        text-align: right;\n",
       "    }\n",
       "</style>\n",
       "<table border=\"1\" class=\"dataframe\">\n",
       "  <thead>\n",
       "    <tr style=\"text-align: right;\">\n",
       "      <th></th>\n",
       "      <th>model</th>\n",
       "      <th>100.mp4_psnr</th>\n",
       "      <th>100.mp4_qm</th>\n",
       "      <th>100.mp4_ssim</th>\n",
       "      <th>1000.mp4_psnr</th>\n",
       "      <th>1000.mp4_qm</th>\n",
       "      <th>1000.mp4_ssim</th>\n",
       "      <th>200.mp4_psnr</th>\n",
       "      <th>200.mp4_qm</th>\n",
       "      <th>200.mp4_ssim</th>\n",
       "      <th>...</th>\n",
       "      <th>800.mp4_psnr</th>\n",
       "      <th>800.mp4_qm</th>\n",
       "      <th>800.mp4_ssim</th>\n",
       "      <th>900.mp4_psnr</th>\n",
       "      <th>900.mp4_qm</th>\n",
       "      <th>900.mp4_ssim</th>\n",
       "      <th>average_psnr</th>\n",
       "      <th>average_ssim</th>\n",
       "      <th>average_qm</th>\n",
       "      <th>score</th>\n",
       "    </tr>\n",
       "  </thead>\n",
       "  <tbody>\n",
       "    <tr>\n",
       "      <th>0</th>\n",
       "      <td>small_360_720_252videos_AdamWopt_PNSRloss_1fb_...</td>\n",
       "      <td>0.037415</td>\n",
       "      <td>0.001239</td>\n",
       "      <td>-0.000393</td>\n",
       "      <td>1.152993</td>\n",
       "      <td>0.096681</td>\n",
       "      <td>0.000642</td>\n",
       "      <td>1.248082</td>\n",
       "      <td>0.128421</td>\n",
       "      <td>0.007854</td>\n",
       "      <td>...</td>\n",
       "      <td>1.262106</td>\n",
       "      <td>0.145414</td>\n",
       "      <td>0.012803</td>\n",
       "      <td>1.251351</td>\n",
       "      <td>0.148825</td>\n",
       "      <td>0.014457</td>\n",
       "      <td>1.191194</td>\n",
       "      <td>0.004677</td>\n",
       "      <td>0.110589</td>\n",
       "      <td>1.0</td>\n",
       "    </tr>\n",
       "  </tbody>\n",
       "</table>\n",
       "<p>1 rows × 35 columns</p>\n",
       "</div>"
      ],
      "text/plain": [
       "                                               model  100.mp4_psnr  \\\n",
       "0  small_360_720_252videos_AdamWopt_PNSRloss_1fb_...      0.037415   \n",
       "\n",
       "   100.mp4_qm  100.mp4_ssim  1000.mp4_psnr  1000.mp4_qm  1000.mp4_ssim  \\\n",
       "0    0.001239     -0.000393       1.152993     0.096681       0.000642   \n",
       "\n",
       "   200.mp4_psnr  200.mp4_qm  200.mp4_ssim  ...  800.mp4_psnr  800.mp4_qm  \\\n",
       "0      1.248082    0.128421      0.007854  ...      1.262106    0.145414   \n",
       "\n",
       "   800.mp4_ssim  900.mp4_psnr  900.mp4_qm  900.mp4_ssim  average_psnr  \\\n",
       "0      0.012803      1.251351    0.148825      0.014457      1.191194   \n",
       "\n",
       "   average_ssim  average_qm  score  \n",
       "0      0.004677    0.110589    1.0  \n",
       "\n",
       "[1 rows x 35 columns]"
      ]
     },
     "execution_count": 9,
     "metadata": {},
     "output_type": "execute_result"
    }
   ],
   "source": [
    "pd.read_csv('resources/resultsQHD.csv')"
   ]
  },
  {
   "cell_type": "markdown",
   "metadata": {},
   "source": [
    "while results for the 720p->1080p are as follows:\n"
   ]
  },
  {
   "cell_type": "code",
   "execution_count": 10,
   "metadata": {},
   "outputs": [
    {
     "data": {
      "text/html": [
       "<div>\n",
       "<style scoped>\n",
       "    .dataframe tbody tr th:only-of-type {\n",
       "        vertical-align: middle;\n",
       "    }\n",
       "\n",
       "    .dataframe tbody tr th {\n",
       "        vertical-align: top;\n",
       "    }\n",
       "\n",
       "    .dataframe thead th {\n",
       "        text-align: right;\n",
       "    }\n",
       "</style>\n",
       "<table border=\"1\" class=\"dataframe\">\n",
       "  <thead>\n",
       "    <tr style=\"text-align: right;\">\n",
       "      <th></th>\n",
       "      <th>model</th>\n",
       "      <th>videos/FHD/100.mp4_psnr</th>\n",
       "      <th>videos/FHD/100.mp4_qm</th>\n",
       "      <th>videos/FHD/100.mp4_ssim</th>\n",
       "      <th>videos/FHD/1000.mp4_psnr</th>\n",
       "      <th>videos/FHD/1000.mp4_qm</th>\n",
       "      <th>videos/FHD/1000.mp4_ssim</th>\n",
       "      <th>videos/FHD/200.mp4_psnr</th>\n",
       "      <th>videos/FHD/200.mp4_qm</th>\n",
       "      <th>videos/FHD/200.mp4_ssim</th>\n",
       "      <th>...</th>\n",
       "      <th>videos/FHD/800.mp4_psnr</th>\n",
       "      <th>videos/FHD/800.mp4_qm</th>\n",
       "      <th>videos/FHD/800.mp4_ssim</th>\n",
       "      <th>videos/FHD/900.mp4_psnr</th>\n",
       "      <th>videos/FHD/900.mp4_qm</th>\n",
       "      <th>videos/FHD/900.mp4_ssim</th>\n",
       "      <th>average_psnr</th>\n",
       "      <th>average_ssim</th>\n",
       "      <th>average_qm</th>\n",
       "      <th>score</th>\n",
       "    </tr>\n",
       "  </thead>\n",
       "  <tbody>\n",
       "    <tr>\n",
       "      <th>0</th>\n",
       "      <td>fine-models/small_360_720_252videos_AdamWopt_P...</td>\n",
       "      <td>-0.534127</td>\n",
       "      <td>-0.041081</td>\n",
       "      <td>-0.000958</td>\n",
       "      <td>0.66914</td>\n",
       "      <td>0.041786</td>\n",
       "      <td>-0.004324</td>\n",
       "      <td>1.06125</td>\n",
       "      <td>0.10055</td>\n",
       "      <td>0.003861</td>\n",
       "      <td>...</td>\n",
       "      <td>0.954282</td>\n",
       "      <td>0.099231</td>\n",
       "      <td>0.006251</td>\n",
       "      <td>0.944094</td>\n",
       "      <td>0.103377</td>\n",
       "      <td>0.007901</td>\n",
       "      <td>0.555545</td>\n",
       "      <td>0.000368</td>\n",
       "      <td>0.047386</td>\n",
       "      <td>0.8</td>\n",
       "    </tr>\n",
       "  </tbody>\n",
       "</table>\n",
       "<p>1 rows × 35 columns</p>\n",
       "</div>"
      ],
      "text/plain": [
       "                                               model  videos/FHD/100.mp4_psnr  \\\n",
       "0  fine-models/small_360_720_252videos_AdamWopt_P...                -0.534127   \n",
       "\n",
       "   videos/FHD/100.mp4_qm  videos/FHD/100.mp4_ssim  videos/FHD/1000.mp4_psnr  \\\n",
       "0              -0.041081                -0.000958                   0.66914   \n",
       "\n",
       "   videos/FHD/1000.mp4_qm  videos/FHD/1000.mp4_ssim  videos/FHD/200.mp4_psnr  \\\n",
       "0                0.041786                 -0.004324                  1.06125   \n",
       "\n",
       "   videos/FHD/200.mp4_qm  videos/FHD/200.mp4_ssim  ...  \\\n",
       "0                0.10055                 0.003861  ...   \n",
       "\n",
       "   videos/FHD/800.mp4_psnr  videos/FHD/800.mp4_qm  videos/FHD/800.mp4_ssim  \\\n",
       "0                 0.954282               0.099231                 0.006251   \n",
       "\n",
       "   videos/FHD/900.mp4_psnr  videos/FHD/900.mp4_qm  videos/FHD/900.mp4_ssim  \\\n",
       "0                 0.944094               0.103377                 0.007901   \n",
       "\n",
       "   average_psnr  average_ssim  average_qm  score  \n",
       "0      0.555545      0.000368    0.047386    0.8  \n",
       "\n",
       "[1 rows x 35 columns]"
      ]
     },
     "execution_count": 10,
     "metadata": {},
     "output_type": "execute_result"
    }
   ],
   "source": [
    "pd.read_csv('resources/resultsFHD.csv')"
   ]
  },
  {
   "cell_type": "markdown",
   "metadata": {},
   "source": [
    "We can see that model trained in such a way works perfectly outside of tis native resolutions as long as the upscale factor is the same, with 720p->1440p are even slightly better than with 360p->720p, but in 720p->1080p the performance drops significantly with model losing 2/10 videos to cubic interpolation.\n"
   ]
  },
  {
   "cell_type": "markdown",
   "metadata": {},
   "source": [
    "### Extras: Own Dataset\n",
    "\n",
    "We also recoded our own videos, of variable length amounting to around 40s or 2400 frames and tested our model on them. The results are presented in the table below:\n"
   ]
  },
  {
   "cell_type": "code",
   "execution_count": 11,
   "metadata": {},
   "outputs": [
    {
     "data": {
      "text/html": [
       "<div>\n",
       "<style scoped>\n",
       "    .dataframe tbody tr th:only-of-type {\n",
       "        vertical-align: middle;\n",
       "    }\n",
       "\n",
       "    .dataframe tbody tr th {\n",
       "        vertical-align: top;\n",
       "    }\n",
       "\n",
       "    .dataframe thead th {\n",
       "        text-align: right;\n",
       "    }\n",
       "</style>\n",
       "<table border=\"1\" class=\"dataframe\">\n",
       "  <thead>\n",
       "    <tr style=\"text-align: right;\">\n",
       "      <th></th>\n",
       "      <th>model</th>\n",
       "      <th>1_psnr</th>\n",
       "      <th>1_qm</th>\n",
       "      <th>1_ssim</th>\n",
       "      <th>2_psnr</th>\n",
       "      <th>2_qm</th>\n",
       "      <th>2_ssim</th>\n",
       "      <th>3_psnr</th>\n",
       "      <th>3_qm</th>\n",
       "      <th>3_ssim</th>\n",
       "      <th>...</th>\n",
       "      <th>5_psnr</th>\n",
       "      <th>5_qm</th>\n",
       "      <th>5_ssim</th>\n",
       "      <th>6_psnr</th>\n",
       "      <th>6_qm</th>\n",
       "      <th>6_ssim</th>\n",
       "      <th>average_psnr</th>\n",
       "      <th>average_ssim</th>\n",
       "      <th>average_qm</th>\n",
       "      <th>score</th>\n",
       "    </tr>\n",
       "  </thead>\n",
       "  <tbody>\n",
       "    <tr>\n",
       "      <th>0</th>\n",
       "      <td>small_360_720_252videos_AdamWopt_PNSRloss_1fb_...</td>\n",
       "      <td>-0.286556</td>\n",
       "      <td>-0.020512</td>\n",
       "      <td>-0.000108</td>\n",
       "      <td>-0.287387</td>\n",
       "      <td>-0.02039</td>\n",
       "      <td>-0.000073</td>\n",
       "      <td>-0.327161</td>\n",
       "      <td>-0.023278</td>\n",
       "      <td>-0.000102</td>\n",
       "      <td>...</td>\n",
       "      <td>0.831936</td>\n",
       "      <td>0.096908</td>\n",
       "      <td>0.009307</td>\n",
       "      <td>0.735983</td>\n",
       "      <td>0.063764</td>\n",
       "      <td>0.002339</td>\n",
       "      <td>0.20695</td>\n",
       "      <td>0.005782</td>\n",
       "      <td>0.035566</td>\n",
       "      <td>0.5</td>\n",
       "    </tr>\n",
       "  </tbody>\n",
       "</table>\n",
       "<p>1 rows × 23 columns</p>\n",
       "</div>"
      ],
      "text/plain": [
       "                                               model    1_psnr      1_qm  \\\n",
       "0  small_360_720_252videos_AdamWopt_PNSRloss_1fb_... -0.286556 -0.020512   \n",
       "\n",
       "     1_ssim    2_psnr     2_qm    2_ssim    3_psnr      3_qm    3_ssim  ...  \\\n",
       "0 -0.000108 -0.287387 -0.02039 -0.000073 -0.327161 -0.023278 -0.000102  ...   \n",
       "\n",
       "     5_psnr      5_qm    5_ssim    6_psnr      6_qm    6_ssim  average_psnr  \\\n",
       "0  0.831936  0.096908  0.009307  0.735983  0.063764  0.002339       0.20695   \n",
       "\n",
       "   average_ssim  average_qm  score  \n",
       "0      0.005782    0.035566    0.5  \n",
       "\n",
       "[1 rows x 23 columns]"
      ]
     },
     "execution_count": 11,
     "metadata": {},
     "output_type": "execute_result"
    }
   ],
   "source": [
    "pd.read_csv('resources/resultsCustom.csv')"
   ]
  },
  {
   "cell_type": "markdown",
   "metadata": {},
   "source": [
    "### Runtime Environment\n",
    "\n",
    "- Ubuntu 24.04.1, Linux 6.8.0\n",
    "- Intel Core i5-13500\n",
    "- 32GB RAM\n",
    "- NVIDIA GeForce RTX 3060\n",
    "- NVIDIA Driver 535.183.01\n",
    "- CUDA 12.0\n"
   ]
  },
  {
   "cell_type": "markdown",
   "metadata": {},
   "source": [
    "### References\n",
    "\n",
    "- Dong, C., Loy, C.C., He, K. and Tang, X., 2015. Image super-resolution using deep convolutional networks. IEEE transactions on pattern analysis and machine intelligence, 38(2), pp.295-307.\n",
    "- Kappeler, A., Yoo, S., Dai, Q. and Katsaggelos, A.K., 2016. Video super-resolution with convolutional neural networks. IEEE transactions on computational imaging, 2(2), pp.109-122.\n",
    "- https://medium.com/coinmonks/review-srcnn-super-resolution-3cb3a4f67a7c\n",
    "- https://www.v7labs.com/blog/image-super-resolution-guide\n",
    "- https://alexandrosstergiou.github.io/datasets/Inter4K/index.html (Dataset)\n"
   ]
  },
  {
   "cell_type": "markdown",
   "metadata": {},
   "source": [
    "### Points\n",
    "\n",
    "| Item                                         | Points |\n",
    "| -------------------------------------------- | ------ |\n",
    "| Super-Resolution                             | 3      |\n",
    "| Own Architecture                             | 2      |\n",
    "| Non-trivial solution (using mutliple frames) | 1      |\n",
    "| At least 10,000 images                       | 1      |\n",
    "| Our own dataset                              | 1      |\n",
    "| Testing 3 optimizers                         | 1      |\n",
    "| Testing 3 loss functions                     | 1      |\n",
    "| MlFLow                                       | 1      |\n",
    "| Streamlit GUI                                | 1      |\n",
    "| DVC                                          | 2      |\n",
    "| HPO                                          | 1      |\n",
    "| Total                                        | 15     |\n"
   ]
  },
  {
   "cell_type": "markdown",
   "metadata": {},
   "source": [
    "### [Github Repository](https://github.com/Dawid64/super-enhanced-resolution)\n"
   ]
  }
 ],
 "metadata": {
  "kernelspec": {
   "display_name": ".venv",
   "language": "python",
   "name": "python3"
  },
  "language_info": {
   "codemirror_mode": {
    "name": "ipython",
    "version": 3
   },
   "file_extension": ".py",
   "mimetype": "text/x-python",
   "name": "python",
   "nbconvert_exporter": "python",
   "pygments_lexer": "ipython3",
   "version": "3.12.3"
  }
 },
 "nbformat": 4,
 "nbformat_minor": 2
}
